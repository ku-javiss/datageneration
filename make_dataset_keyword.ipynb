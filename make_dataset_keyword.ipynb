{
 "cells": [
  {
   "cell_type": "code",
   "execution_count": 1,
   "id": "45ddc231-cf1f-4711-a35f-1626aca961a8",
   "metadata": {},
   "outputs": [
    {
     "name": "stdout",
     "output_type": "stream",
     "text": [
      "                                                  tokens  \\\n",
      "0      listen to westbam alumb allergic on google mus...   \n",
      "1          add step to me to the 50 clásicos playlist \\n   \n",
      "2      i give this current textbook a rating value of...   \n",
      "3                 play the song little robin redbreast\\n   \n",
      "4      please add iris dement to my playlist this is ...   \n",
      "...                                                  ...   \n",
      "13079    i want to eat choucroute at a brasserie for 8\\n   \n",
      "13080                          play funky heavy bluesy\\n   \n",
      "13081         rate the current album 2 points out of 6\\n   \n",
      "13082          go to the photograph the inflated tear \\n   \n",
      "13083                   rate richard carvel 4 out of 6\\n   \n",
      "\n",
      "                                                    tags                 label  \n",
      "0        O O B-artist O B-album O B-service I-service \\n           PlayMusic\\n  \n",
      "1      O B-entity_name I-entity_name I-entity_name O ...       AddToPlaylist\\n  \n",
      "2      O O O B-object_select B-object_type O O O O B-...            RateBook\\n  \n",
      "3            O O B-music_item B-track I-track I-track \\n           PlayMusic\\n  \n",
      "4      O O B-artist I-artist O B-playlist_owner O B-p...       AddToPlaylist\\n  \n",
      "...                                                  ...                   ...  \n",
      "13079  O O O O B-served_dish O O B-restaurant_type O ...      BookRestaurant\\n  \n",
      "13080              O B-playlist I-playlist I-playlist \\n           PlayMusic\\n  \n",
      "13081  O O B-object_select B-object_type B-rating_val...            RateBook\\n  \n",
      "13082  O O O B-object_type B-object_name I-object_nam...  SearchCreativeWork\\n  \n",
      "13083  O B-object_name I-object_name B-rating_value O...            RateBook\\n  \n",
      "\n",
      "[13084 rows x 3 columns]\n"
     ]
    }
   ],
   "source": [
    "import pandas as pd\n",
    "\n",
    "train_path = '/home/chang/domain_intent/SlotGated-SLU/data/snips/train/'\n",
    "token_path = 'seq.in'\n",
    "tag_path = 'seq.out'\n",
    "label_path = 'label'\n",
    "\n",
    "train_token_f = open(train_path + token_path, 'r')\n",
    "train_tag_f = open(train_path + tag_path, 'r')\n",
    "train_label_f = open(train_path + label_path, 'r')\n",
    "\n",
    "train_token = []\n",
    "train_tag = []\n",
    "train_label = []\n",
    "\n",
    "while True:\n",
    "    token_line = train_token_f.readline()\n",
    "    if not token_line:\n",
    "        break\n",
    "    train_token.append(token_line)\n",
    "\n",
    "while True:\n",
    "    tag_line = train_tag_f.readline()\n",
    "    if not tag_line:\n",
    "        break\n",
    "    train_tag.append(tag_line)\n",
    "\n",
    "while True:\n",
    "    label_line = train_label_f.readline()\n",
    "    if not label_line:\n",
    "        break\n",
    "    train_label.append(label_line)\n",
    "\n",
    "train_set = zip(train_token, train_tag, train_label)\n",
    "\n",
    "train_df = pd.DataFrame(train_set, columns = ['tokens', 'tags', 'label'])\n",
    "print(train_df)"
   ]
  },
  {
   "cell_type": "code",
   "execution_count": 2,
   "id": "308e2f5b-2428-4720-b939-8aff2b003005",
   "metadata": {},
   "outputs": [
    {
     "name": "stdout",
     "output_type": "stream",
     "text": [
      "                                                  tokens  \\\n",
      "0      listen to westbam alumb allergic on google mus...   \n",
      "3                 play the song little robin redbreast\\n   \n",
      "6                 i want to listen to seventies music \\n   \n",
      "7                play a popular chant by brian epstein\\n   \n",
      "13        can you play me some eighties music by adele\\n   \n",
      "...                                                  ...   \n",
      "13067  where can i see the trailer of take me to the ...   \n",
      "13069                  play a tune from space mandino \\n   \n",
      "13076                             show olympia 81 saga\\n   \n",
      "13080                          play funky heavy bluesy\\n   \n",
      "13082          go to the photograph the inflated tear \\n   \n",
      "\n",
      "                                                    tags                 label  \n",
      "0        O O B-artist O B-album O B-service I-service \\n           PlayMusic\\n  \n",
      "3            O O B-music_item B-track I-track I-track \\n           PlayMusic\\n  \n",
      "6                                  O O O O O B-year O \\n           PlayMusic\\n  \n",
      "7         O O B-sort B-music_item O B-artist I-artist \\n           PlayMusic\\n  \n",
      "13                      O O O O O B-year O O B-artist \\n           PlayMusic\\n  \n",
      "...                                                  ...                   ...  \n",
      "13067  O O O O O B-object_type O B-object_name I-obje...  SearchCreativeWork\\n  \n",
      "13069            O O B-music_item O B-artist I-artist \\n           PlayMusic\\n  \n",
      "13076     O B-object_name I-object_name B-object_type \\n  SearchCreativeWork\\n  \n",
      "13080              O B-playlist I-playlist I-playlist \\n           PlayMusic\\n  \n",
      "13082  O O O B-object_type B-object_name I-object_nam...  SearchCreativeWork\\n  \n",
      "\n",
      "[3761 rows x 3 columns]\n"
     ]
    }
   ],
   "source": [
    "idx_num_set = train_df[(train_df['label'] == 'AddToPlaylist\\n') \n",
    "                       | (train_df['label'] == 'RateBook\\n')\n",
    "                      | (train_df['label'] == 'BookRestaurant\\n')\n",
    "                         | (train_df['label'] == 'GetWeather\\n')\n",
    "                            | (train_df['label'] == 'SearchScreeningEvent\\n')].index\n",
    "keyword_train_df = train_df.drop(idx_num_set)\n",
    "print(keyword_train_df)"
   ]
  },
  {
   "cell_type": "code",
   "execution_count": 3,
   "id": "7c24f65e-7d5b-4549-bcde-17898cd89516",
   "metadata": {},
   "outputs": [
    {
     "name": "stdout",
     "output_type": "stream",
     "text": [
      "                                                  tokens  \\\n",
      "0      listen to westbam alumb allergic on google mus...   \n",
      "3                 play the song little robin redbreast\\n   \n",
      "6                 i want to listen to seventies music \\n   \n",
      "7                play a popular chant by brian epstein\\n   \n",
      "13        can you play me some eighties music by adele\\n   \n",
      "...                                                  ...   \n",
      "13067  where can i see the trailer of take me to the ...   \n",
      "13069                  play a tune from space mandino \\n   \n",
      "13076                             show olympia 81 saga\\n   \n",
      "13080                          play funky heavy bluesy\\n   \n",
      "13082          go to the photograph the inflated tear \\n   \n",
      "\n",
      "                                                    tags  \n",
      "0        O O B-artist O B-album O B-service I-service \\n  \n",
      "3            O O B-music_item B-track I-track I-track \\n  \n",
      "6                                  O O O O O B-year O \\n  \n",
      "7         O O B-sort B-music_item O B-artist I-artist \\n  \n",
      "13                      O O O O O B-year O O B-artist \\n  \n",
      "...                                                  ...  \n",
      "13067  O O O O O B-object_type O B-object_name I-obje...  \n",
      "13069            O O B-music_item O B-artist I-artist \\n  \n",
      "13076     O B-object_name I-object_name B-object_type \\n  \n",
      "13080              O B-playlist I-playlist I-playlist \\n  \n",
      "13082  O O O B-object_type B-object_name I-object_nam...  \n",
      "\n",
      "[3761 rows x 2 columns]\n"
     ]
    }
   ],
   "source": [
    "keyword_train_df.drop(['label'], axis='columns', inplace=True)\n",
    "print(keyword_train_df)"
   ]
  },
  {
   "cell_type": "code",
   "execution_count": 4,
   "id": "e1acd2df-f55e-429e-9154-850fc7fb9bc3",
   "metadata": {},
   "outputs": [],
   "source": [
    "keyword_train_df.to_csv('keyword_train.csv', mode='w', index=False)"
   ]
  },
  {
   "cell_type": "code",
   "execution_count": null,
   "id": "bfc23271-ff7b-47cc-a66e-062a70b96f19",
   "metadata": {},
   "outputs": [],
   "source": []
  }
 ],
 "metadata": {
  "kernelspec": {
   "display_name": "domain",
   "language": "python",
   "name": "domain"
  },
  "language_info": {
   "codemirror_mode": {
    "name": "ipython",
    "version": 3
   },
   "file_extension": ".py",
   "mimetype": "text/x-python",
   "name": "python",
   "nbconvert_exporter": "python",
   "pygments_lexer": "ipython3",
   "version": "3.8.12"
  }
 },
 "nbformat": 4,
 "nbformat_minor": 5
}
